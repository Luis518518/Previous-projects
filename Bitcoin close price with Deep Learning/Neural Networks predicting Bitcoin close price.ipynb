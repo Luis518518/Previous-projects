{
 "cells": [
  {
   "cell_type": "markdown",
   "id": "12f7eb3e",
   "metadata": {},
   "source": [
    "# Tarea Redes Neuronales\n",
    "Luis Roberto Cervantes Guevara"
   ]
  },
  {
   "cell_type": "markdown",
   "id": "3e09099d",
   "metadata": {},
   "source": [
    "Para este proyecto se ha elegido crear una red neuronal que intente predecir el precio de Bitcoin utilizando la base de datos encontrada en Kaggle y la librería Keras.\n"
   ]
  },
  {
   "cell_type": "markdown",
   "id": "895ac6f5",
   "metadata": {},
   "source": [
    "El primer paso para esto es importar los datos del archivo csv descargado de Kaggle, así como empezar a manipularnos para crear dos arreglos con los que podamos trabajar. Para esto, es de mucha ayuda utilizar las librerías de pandas y numpy. como se muestra acontinuacón:"
   ]
  },
  {
   "cell_type": "code",
   "execution_count": 1,
   "id": "e3274fb6",
   "metadata": {},
   "outputs": [],
   "source": [
    "import numpy as np\n",
    "import pandas as pd\n",
    "import seaborn as sns\n",
    "import math\n",
    "datos=pd.read_csv(\"PrecioBitcoin.csv\")\n",
    "dat=pd.DataFrame(datos)"
   ]
  },
  {
   "cell_type": "code",
   "execution_count": 2,
   "id": "cc9e60be",
   "metadata": {
    "scrolled": true
   },
   "outputs": [
    {
     "data": {
      "text/html": [
       "<div>\n",
       "<style scoped>\n",
       "    .dataframe tbody tr th:only-of-type {\n",
       "        vertical-align: middle;\n",
       "    }\n",
       "\n",
       "    .dataframe tbody tr th {\n",
       "        vertical-align: top;\n",
       "    }\n",
       "\n",
       "    .dataframe thead th {\n",
       "        text-align: right;\n",
       "    }\n",
       "</style>\n",
       "<table border=\"1\" class=\"dataframe\">\n",
       "  <thead>\n",
       "    <tr style=\"text-align: right;\">\n",
       "      <th></th>\n",
       "      <th>Timestamp</th>\n",
       "      <th>Open</th>\n",
       "      <th>High</th>\n",
       "      <th>Low</th>\n",
       "      <th>Close</th>\n",
       "      <th>Volume_(BTC)</th>\n",
       "      <th>Volume_(Currency)</th>\n",
       "      <th>Weighted_Price</th>\n",
       "    </tr>\n",
       "  </thead>\n",
       "  <tbody>\n",
       "    <tr>\n",
       "      <th>0</th>\n",
       "      <td>1325317920</td>\n",
       "      <td>4.39</td>\n",
       "      <td>4.39</td>\n",
       "      <td>4.39</td>\n",
       "      <td>4.39</td>\n",
       "      <td>0.455581</td>\n",
       "      <td>2.0</td>\n",
       "      <td>4.39</td>\n",
       "    </tr>\n",
       "    <tr>\n",
       "      <th>1</th>\n",
       "      <td>1325317980</td>\n",
       "      <td>NaN</td>\n",
       "      <td>NaN</td>\n",
       "      <td>NaN</td>\n",
       "      <td>NaN</td>\n",
       "      <td>NaN</td>\n",
       "      <td>NaN</td>\n",
       "      <td>NaN</td>\n",
       "    </tr>\n",
       "    <tr>\n",
       "      <th>2</th>\n",
       "      <td>1325318040</td>\n",
       "      <td>NaN</td>\n",
       "      <td>NaN</td>\n",
       "      <td>NaN</td>\n",
       "      <td>NaN</td>\n",
       "      <td>NaN</td>\n",
       "      <td>NaN</td>\n",
       "      <td>NaN</td>\n",
       "    </tr>\n",
       "    <tr>\n",
       "      <th>3</th>\n",
       "      <td>1325318100</td>\n",
       "      <td>NaN</td>\n",
       "      <td>NaN</td>\n",
       "      <td>NaN</td>\n",
       "      <td>NaN</td>\n",
       "      <td>NaN</td>\n",
       "      <td>NaN</td>\n",
       "      <td>NaN</td>\n",
       "    </tr>\n",
       "    <tr>\n",
       "      <th>4</th>\n",
       "      <td>1325318160</td>\n",
       "      <td>NaN</td>\n",
       "      <td>NaN</td>\n",
       "      <td>NaN</td>\n",
       "      <td>NaN</td>\n",
       "      <td>NaN</td>\n",
       "      <td>NaN</td>\n",
       "      <td>NaN</td>\n",
       "    </tr>\n",
       "  </tbody>\n",
       "</table>\n",
       "</div>"
      ],
      "text/plain": [
       "    Timestamp  Open  High   Low  Close  Volume_(BTC)  Volume_(Currency)  \\\n",
       "0  1325317920  4.39  4.39  4.39   4.39      0.455581                2.0   \n",
       "1  1325317980   NaN   NaN   NaN    NaN           NaN                NaN   \n",
       "2  1325318040   NaN   NaN   NaN    NaN           NaN                NaN   \n",
       "3  1325318100   NaN   NaN   NaN    NaN           NaN                NaN   \n",
       "4  1325318160   NaN   NaN   NaN    NaN           NaN                NaN   \n",
       "\n",
       "   Weighted_Price  \n",
       "0            4.39  \n",
       "1             NaN  \n",
       "2             NaN  \n",
       "3             NaN  \n",
       "4             NaN  "
      ]
     },
     "execution_count": 2,
     "metadata": {},
     "output_type": "execute_result"
    }
   ],
   "source": [
    "datos.head()"
   ]
  },
  {
   "cell_type": "markdown",
   "id": "17de4bf4",
   "metadata": {},
   "source": [
    "En esta visualización se observa que el set de datos contiene datos nulos, que para efectos de este proyecto es necesario quitar. Esto se puede hacer fácilmente con la función dropna() de pandas:"
   ]
  },
  {
   "cell_type": "code",
   "execution_count": 3,
   "id": "a3cbb4bd",
   "metadata": {},
   "outputs": [],
   "source": [
    "dat=dat.dropna()\n",
    "dat=dat.reset_index()"
   ]
  },
  {
   "cell_type": "code",
   "execution_count": 4,
   "id": "4571d6f6",
   "metadata": {},
   "outputs": [
    {
     "data": {
      "text/html": [
       "<div>\n",
       "<style scoped>\n",
       "    .dataframe tbody tr th:only-of-type {\n",
       "        vertical-align: middle;\n",
       "    }\n",
       "\n",
       "    .dataframe tbody tr th {\n",
       "        vertical-align: top;\n",
       "    }\n",
       "\n",
       "    .dataframe thead th {\n",
       "        text-align: right;\n",
       "    }\n",
       "</style>\n",
       "<table border=\"1\" class=\"dataframe\">\n",
       "  <thead>\n",
       "    <tr style=\"text-align: right;\">\n",
       "      <th></th>\n",
       "      <th>index</th>\n",
       "      <th>Timestamp</th>\n",
       "      <th>Open</th>\n",
       "      <th>High</th>\n",
       "      <th>Low</th>\n",
       "      <th>Close</th>\n",
       "      <th>Volume_(BTC)</th>\n",
       "      <th>Volume_(Currency)</th>\n",
       "      <th>Weighted_Price</th>\n",
       "    </tr>\n",
       "  </thead>\n",
       "  <tbody>\n",
       "    <tr>\n",
       "      <th>0</th>\n",
       "      <td>0</td>\n",
       "      <td>1325317920</td>\n",
       "      <td>4.39</td>\n",
       "      <td>4.39</td>\n",
       "      <td>4.39</td>\n",
       "      <td>4.39</td>\n",
       "      <td>0.455581</td>\n",
       "      <td>2.000000</td>\n",
       "      <td>4.390000</td>\n",
       "    </tr>\n",
       "    <tr>\n",
       "      <th>1</th>\n",
       "      <td>478</td>\n",
       "      <td>1325346600</td>\n",
       "      <td>4.39</td>\n",
       "      <td>4.39</td>\n",
       "      <td>4.39</td>\n",
       "      <td>4.39</td>\n",
       "      <td>48.000000</td>\n",
       "      <td>210.720000</td>\n",
       "      <td>4.390000</td>\n",
       "    </tr>\n",
       "    <tr>\n",
       "      <th>2</th>\n",
       "      <td>547</td>\n",
       "      <td>1325350740</td>\n",
       "      <td>4.50</td>\n",
       "      <td>4.57</td>\n",
       "      <td>4.50</td>\n",
       "      <td>4.57</td>\n",
       "      <td>37.862297</td>\n",
       "      <td>171.380338</td>\n",
       "      <td>4.526411</td>\n",
       "    </tr>\n",
       "    <tr>\n",
       "      <th>3</th>\n",
       "      <td>548</td>\n",
       "      <td>1325350800</td>\n",
       "      <td>4.58</td>\n",
       "      <td>4.58</td>\n",
       "      <td>4.58</td>\n",
       "      <td>4.58</td>\n",
       "      <td>9.000000</td>\n",
       "      <td>41.220000</td>\n",
       "      <td>4.580000</td>\n",
       "    </tr>\n",
       "    <tr>\n",
       "      <th>4</th>\n",
       "      <td>1224</td>\n",
       "      <td>1325391360</td>\n",
       "      <td>4.58</td>\n",
       "      <td>4.58</td>\n",
       "      <td>4.58</td>\n",
       "      <td>4.58</td>\n",
       "      <td>1.502000</td>\n",
       "      <td>6.879160</td>\n",
       "      <td>4.580000</td>\n",
       "    </tr>\n",
       "    <tr>\n",
       "      <th>...</th>\n",
       "      <td>...</td>\n",
       "      <td>...</td>\n",
       "      <td>...</td>\n",
       "      <td>...</td>\n",
       "      <td>...</td>\n",
       "      <td>...</td>\n",
       "      <td>...</td>\n",
       "      <td>...</td>\n",
       "      <td>...</td>\n",
       "    </tr>\n",
       "    <tr>\n",
       "      <th>3613764</th>\n",
       "      <td>4857372</td>\n",
       "      <td>1617148560</td>\n",
       "      <td>58714.31</td>\n",
       "      <td>58714.31</td>\n",
       "      <td>58686.00</td>\n",
       "      <td>58686.00</td>\n",
       "      <td>1.384487</td>\n",
       "      <td>81259.372187</td>\n",
       "      <td>58692.753339</td>\n",
       "    </tr>\n",
       "    <tr>\n",
       "      <th>3613765</th>\n",
       "      <td>4857373</td>\n",
       "      <td>1617148620</td>\n",
       "      <td>58683.97</td>\n",
       "      <td>58693.43</td>\n",
       "      <td>58683.97</td>\n",
       "      <td>58685.81</td>\n",
       "      <td>7.294848</td>\n",
       "      <td>428158.146640</td>\n",
       "      <td>58693.226508</td>\n",
       "    </tr>\n",
       "    <tr>\n",
       "      <th>3613766</th>\n",
       "      <td>4857374</td>\n",
       "      <td>1617148680</td>\n",
       "      <td>58693.43</td>\n",
       "      <td>58723.84</td>\n",
       "      <td>58693.43</td>\n",
       "      <td>58723.84</td>\n",
       "      <td>1.705682</td>\n",
       "      <td>100117.070370</td>\n",
       "      <td>58696.198496</td>\n",
       "    </tr>\n",
       "    <tr>\n",
       "      <th>3613767</th>\n",
       "      <td>4857375</td>\n",
       "      <td>1617148740</td>\n",
       "      <td>58742.18</td>\n",
       "      <td>58770.38</td>\n",
       "      <td>58742.18</td>\n",
       "      <td>58760.59</td>\n",
       "      <td>0.720415</td>\n",
       "      <td>42332.958633</td>\n",
       "      <td>58761.866202</td>\n",
       "    </tr>\n",
       "    <tr>\n",
       "      <th>3613768</th>\n",
       "      <td>4857376</td>\n",
       "      <td>1617148800</td>\n",
       "      <td>58767.75</td>\n",
       "      <td>58778.18</td>\n",
       "      <td>58755.97</td>\n",
       "      <td>58778.18</td>\n",
       "      <td>2.712831</td>\n",
       "      <td>159417.751000</td>\n",
       "      <td>58764.349363</td>\n",
       "    </tr>\n",
       "  </tbody>\n",
       "</table>\n",
       "<p>3613769 rows × 9 columns</p>\n",
       "</div>"
      ],
      "text/plain": [
       "           index   Timestamp      Open      High       Low     Close  \\\n",
       "0              0  1325317920      4.39      4.39      4.39      4.39   \n",
       "1            478  1325346600      4.39      4.39      4.39      4.39   \n",
       "2            547  1325350740      4.50      4.57      4.50      4.57   \n",
       "3            548  1325350800      4.58      4.58      4.58      4.58   \n",
       "4           1224  1325391360      4.58      4.58      4.58      4.58   \n",
       "...          ...         ...       ...       ...       ...       ...   \n",
       "3613764  4857372  1617148560  58714.31  58714.31  58686.00  58686.00   \n",
       "3613765  4857373  1617148620  58683.97  58693.43  58683.97  58685.81   \n",
       "3613766  4857374  1617148680  58693.43  58723.84  58693.43  58723.84   \n",
       "3613767  4857375  1617148740  58742.18  58770.38  58742.18  58760.59   \n",
       "3613768  4857376  1617148800  58767.75  58778.18  58755.97  58778.18   \n",
       "\n",
       "         Volume_(BTC)  Volume_(Currency)  Weighted_Price  \n",
       "0            0.455581           2.000000        4.390000  \n",
       "1           48.000000         210.720000        4.390000  \n",
       "2           37.862297         171.380338        4.526411  \n",
       "3            9.000000          41.220000        4.580000  \n",
       "4            1.502000           6.879160        4.580000  \n",
       "...               ...                ...             ...  \n",
       "3613764      1.384487       81259.372187    58692.753339  \n",
       "3613765      7.294848      428158.146640    58693.226508  \n",
       "3613766      1.705682      100117.070370    58696.198496  \n",
       "3613767      0.720415       42332.958633    58761.866202  \n",
       "3613768      2.712831      159417.751000    58764.349363  \n",
       "\n",
       "[3613769 rows x 9 columns]"
      ]
     },
     "execution_count": 4,
     "metadata": {},
     "output_type": "execute_result"
    }
   ],
   "source": [
    "dat"
   ]
  },
  {
   "cell_type": "markdown",
   "id": "079b1363",
   "metadata": {},
   "source": [
    "Para esta tarea, únicamente utilizaremos las columnas 'Timestamp' (que mide el tiempo) y 'Close', que es el precio del Bitcoin al cierre."
   ]
  },
  {
   "cell_type": "code",
   "execution_count": 5,
   "id": "9e6de469",
   "metadata": {
    "scrolled": true
   },
   "outputs": [],
   "source": [
    "dat=dat.filter(items=['Timestamp','Close'])"
   ]
  },
  {
   "cell_type": "markdown",
   "id": "8ad7d529",
   "metadata": {},
   "source": [
    "Además, para entrenar esta red neuronal sólo trabajaremos con un subconjunto de estos valores, los de los últimos meses, dado que en ese intervalo había menor cantidad de valores nulos:"
   ]
  },
  {
   "cell_type": "code",
   "execution_count": 6,
   "id": "3aedeb28",
   "metadata": {
    "scrolled": true
   },
   "outputs": [
    {
     "data": {
      "text/plain": [
       "3613768"
      ]
     },
     "execution_count": 6,
     "metadata": {},
     "output_type": "execute_result"
    }
   ],
   "source": [
    "a=dat['Timestamp'].idxmax()\n",
    "a"
   ]
  },
  {
   "cell_type": "code",
   "execution_count": 7,
   "id": "65893bcc",
   "metadata": {},
   "outputs": [],
   "source": [
    "dat=dat[3600000:3613769].reset_index()\n",
    "dat=dat.filter(items=['Timestamp','Close'])"
   ]
  },
  {
   "cell_type": "markdown",
   "id": "fdcd86f0",
   "metadata": {},
   "source": [
    "Ahora, a partir de aquí es importante explicar cómo vamos a entrenar a nuestra red neuronal.\n",
    "En un primer acercamiento al problema, la idea que tuve fue la de entrenarla usando únicamente los valores del tiempo y el precio, sin embargo, pronto me di cuenta que la dependencia del precio con tiempo era implícita si se procuraba no aleatorizar las listas; esa información ya estaba contenida en las listas ordenadas. Investigando, me di cuenta que una manera de realizar una predicción sobre un precio específico de esta moneda, llamémosle p_1, era considerando un subgrupo no muy grande de valores anteriores y estudiar cómo el comportamiento de éstos influye en p_1. Dado que el valor de las criptomonedas, las divisas y las acciones dependen de una cantidad enorme de variables, creo que para el análisis de los futuros valores de Bitcoin no es muy conveniente tomar todo el universo de los valores que ha tenido a lo largo de la historia. \n",
    "\n",
    "En concreto, en las siguientes líneas crearemos dos vectores que almacenen: 1.- los precios del Bitcoin ordenados temporalmente (llamado 'precio', y derivados) y 2.- un \"vector\" tal que cada entrada i de éste contenga las n cotizaciones inmediatas anteriores al valor precio[i] (llamodo 'auxiliar', y derivados). Se probaron varios valores para n, y para efectos de esta tarea, se dejará fija en n=200."
   ]
  },
  {
   "cell_type": "code",
   "execution_count": 8,
   "id": "e26e3fb4",
   "metadata": {},
   "outputs": [],
   "source": [
    "precio=dat.filter(items=['Close'])\n",
    "auxiliar=dat.filter(items=['Close'])"
   ]
  },
  {
   "cell_type": "markdown",
   "id": "730d248c",
   "metadata": {},
   "source": [
    "El vector auxiliar se utilizará dentro de poco. Por ahora, separamos los conjuntos train y test:"
   ]
  },
  {
   "cell_type": "code",
   "execution_count": 9,
   "id": "7f380cf2",
   "metadata": {},
   "outputs": [],
   "source": [
    "filas=precio.idxmax()\n",
    "precio_train=precio[:math.floor(filas*.8)].astype('float32')\n",
    "auxiliar_train=auxiliar[:math.floor(filas*.8)].astype('float32')"
   ]
  },
  {
   "cell_type": "code",
   "execution_count": 10,
   "id": "e33148f8",
   "metadata": {},
   "outputs": [],
   "source": [
    "precio_test=((precio[math.ceil(filas*.8):].reset_index()).filter(items=['Close'])).astype('float32')\n",
    "auxiliar_test=((auxiliar[math.ceil(filas*.8):].reset_index()).filter(items=['Close'])).astype('float32')"
   ]
  },
  {
   "cell_type": "markdown",
   "id": "fc632215",
   "metadata": {},
   "source": [
    "Procedemos a normalizar:"
   ]
  },
  {
   "cell_type": "code",
   "execution_count": 11,
   "id": "a963fc97",
   "metadata": {},
   "outputs": [],
   "source": [
    "ma=auxiliar.max()\n",
    "mi=auxiliar.min()\n",
    "j=ma-mi\n",
    "auxiliar_trainn=(auxiliar_train-auxiliar.min())/j\n",
    "auxiliar_testn=(auxiliar_test-auxiliar.min())/j\n",
    "precio_trainn=auxiliar_trainn\n",
    "precio_testn=auxiliar_testn"
   ]
  },
  {
   "cell_type": "markdown",
   "id": "0ffa5573",
   "metadata": {},
   "source": [
    "Ahora, crearemos un objeto que guarde los n precios anteriores de un precio p_i de Bitcoin:"
   ]
  },
  {
   "cell_type": "code",
   "execution_count": 12,
   "id": "5a7e26cd",
   "metadata": {},
   "outputs": [],
   "source": [
    "precio_t=precio_trainn[200:]\n",
    "auxiliar_t=[]\n",
    "for i in range (0,auxiliar_trainn.shape[0]-200):\n",
    "    auxiliar_t.append(auxiliar_trainn[i:i+200])\n",
    "\n",
    "auxiliar_t=np.array(auxiliar_t)\n",
    "precio_t=np.array(precio_t)"
   ]
  },
  {
   "cell_type": "markdown",
   "id": "c0203ad8",
   "metadata": {},
   "source": [
    "Para los datos de prueba:"
   ]
  },
  {
   "cell_type": "code",
   "execution_count": 13,
   "id": "877673a1",
   "metadata": {},
   "outputs": [],
   "source": [
    "precio_te=precio_testn[200:]\n",
    "auxiliar_te=[]\n",
    "for i in range (0,auxiliar_test.shape[0]-200):\n",
    "    auxiliar_te.append(auxiliar_testn[i:i+200])\n",
    "\n",
    "auxiliar_te=np.array(auxiliar_te)\n",
    "precio_te=np.array(precio_te)"
   ]
  },
  {
   "cell_type": "code",
   "execution_count": 14,
   "id": "d57cc708",
   "metadata": {},
   "outputs": [],
   "source": [
    "auxiliar_te = auxiliar_te.reshape(auxiliar_te.shape[0], auxiliar_te.shape[1])\n",
    "auxiliar_t = auxiliar_t.reshape(auxiliar_t.shape[0], auxiliar_t.shape[1])"
   ]
  },
  {
   "cell_type": "markdown",
   "id": "2c1dcbdd",
   "metadata": {},
   "source": [
    "Antes de proseguir a entrenar nuestra red neuronal, creo que es útil visualizar qué se hizo en las líneas anteriores.\n",
    "En la línea 11 teníamos los vectores auxiliar_trainn y precio_trainn (la doble n es porque están normalizados), que tienen dimensiones de:"
   ]
  },
  {
   "cell_type": "code",
   "execution_count": 15,
   "id": "fcfc0b58",
   "metadata": {},
   "outputs": [
    {
     "data": {
      "text/plain": [
       "((10446, 1), (3322, 1))"
      ]
     },
     "execution_count": 15,
     "metadata": {},
     "output_type": "execute_result"
    }
   ],
   "source": [
    "auxiliar_trainn.shape,auxiliar_testn.shape"
   ]
  },
  {
   "cell_type": "code",
   "execution_count": 16,
   "id": "77fdfa20",
   "metadata": {},
   "outputs": [
    {
     "data": {
      "text/plain": [
       "((10446, 1), (3322, 1))"
      ]
     },
     "execution_count": 16,
     "metadata": {},
     "output_type": "execute_result"
    }
   ],
   "source": [
    "precio_trainn.shape,precio_testn.shape"
   ]
  },
  {
   "cell_type": "markdown",
   "id": "336e3f23",
   "metadata": {},
   "source": [
    "En la línea 12 se crea un nuevo objeto, auxiliar_t, agrupe doscientos precios consecutivos de Bitcoin en cada entrada. También, se crea precio_t, que únicamente es la lista precio_trainn recorrida doscientos espacios, de tal manera que precio_t[0] es  precio_trainn[200] y precio_trainn[range(0,199)] es auxiliar[0]. Veámoslo:"
   ]
  },
  {
   "cell_type": "code",
   "execution_count": 17,
   "id": "0b783650",
   "metadata": {},
   "outputs": [
    {
     "data": {
      "text/plain": [
       "(array([[0.64165419, 0.65411902, 0.64455515, ..., 0.70994457, 0.71437532,\n",
       "         0.70931758],\n",
       "        [0.65411902, 0.64455515, 0.64829094, ..., 0.71437532, 0.70931758,\n",
       "         0.70816207],\n",
       "        [0.64455515, 0.64829094, 0.60872703, ..., 0.70931758, 0.70816207,\n",
       "         0.70183989],\n",
       "        ...,\n",
       "        [0.58922806, 0.58758717, 0.58546047, ..., 0.64907827, 0.6483624 ,\n",
       "         0.647074  ],\n",
       "        [0.58758717, 0.58546047, 0.58566569, ..., 0.6483624 , 0.647074  ,\n",
       "         0.65393472],\n",
       "        [0.58546047, 0.58566569, 0.58773444, ..., 0.647074  , 0.65393472,\n",
       "         0.65338833]]),\n",
       " (10246, 200))"
      ]
     },
     "execution_count": 17,
     "metadata": {},
     "output_type": "execute_result"
    }
   ],
   "source": [
    "auxiliar_t, auxiliar_t.shape"
   ]
  },
  {
   "cell_type": "code",
   "execution_count": 18,
   "id": "4fcae39e",
   "metadata": {},
   "outputs": [
    {
     "data": {
      "text/plain": [
       "(array([[0.70816207],\n",
       "        [0.70183989],\n",
       "        [0.70085954],\n",
       "        ...,\n",
       "        [0.65393472],\n",
       "        [0.65338833],\n",
       "        [0.65086208]]),\n",
       " (10246, 1))"
      ]
     },
     "execution_count": 18,
     "metadata": {},
     "output_type": "execute_result"
    }
   ],
   "source": [
    "precio_t, precio_t.shape\n"
   ]
  },
  {
   "cell_type": "markdown",
   "id": "acb5ffd1",
   "metadata": {},
   "source": [
    "Observando cuidadosamente, podemos darnos cuenta que, por ejemplo, el valor 0.7708309 sería el valor que continuaría en el primer vector de auxiliar_t y que, esperamos, esté en gran medida determinado por esta entrada. "
   ]
  },
  {
   "cell_type": "markdown",
   "id": "67e4da84",
   "metadata": {},
   "source": [
    "Esta manera de acomodar los datos hace que sea muy sencillo crear una red neuronal con keras que, una vez entrenada, sólo necesite doscientos valores de precio consecutivos para predecir el valor del siguiente (que a su vez, formará parte de otro conjunto de doscientos precios asociados al precio número 202 y así consecutivamente)."
   ]
  },
  {
   "cell_type": "code",
   "execution_count": 19,
   "id": "b597cc2f",
   "metadata": {},
   "outputs": [
    {
     "name": "stderr",
     "output_type": "stream",
     "text": [
      "Using TensorFlow backend.\n"
     ]
    },
    {
     "name": "stdout",
     "output_type": "stream",
     "text": [
      "Model: \"sequential_1\"\n",
      "_________________________________________________________________\n",
      "Layer (type)                 Output Shape              Param #   \n",
      "=================================================================\n",
      "dense_1 (Dense)              (None, 25)                5025      \n",
      "_________________________________________________________________\n",
      "dropout_1 (Dropout)          (None, 25)                0         \n",
      "_________________________________________________________________\n",
      "dense_2 (Dense)              (None, 1)                 26        \n",
      "=================================================================\n",
      "Total params: 5,051\n",
      "Trainable params: 5,051\n",
      "Non-trainable params: 0\n",
      "_________________________________________________________________\n"
     ]
    }
   ],
   "source": [
    "import keras\n",
    "from keras.models import Sequential\n",
    "from keras.layers import Dense, Dropout\n",
    "from keras.optimizers import Adam\n",
    "import matplotlib.pyplot as plt\n",
    "\n",
    "model = Sequential()\n",
    "    \n",
    "model.add(Dense(25, activation = 'tanh', input_shape=(200,)))\n",
    "#model.add(Dense(10, activation = 'tanh'))\n",
    "model.add(Dropout(0.2))\n",
    "model.add(Dense(1, activation = 'linear'))\n",
    "\n",
    "model.compile(loss='mean_squared_error',optimizer=Adam(lr=.00005))\n",
    "model.summary()"
   ]
  },
  {
   "cell_type": "markdown",
   "id": "f093dd45",
   "metadata": {},
   "source": [
    "Donde nos dimos cuenta que el mejor optimizador para este ejercicio era Adam, al poder variar fácilmente el learning rate asociado."
   ]
  },
  {
   "cell_type": "code",
   "execution_count": 20,
   "id": "ee37ab62",
   "metadata": {},
   "outputs": [
    {
     "name": "stdout",
     "output_type": "stream",
     "text": [
      "Train on 10246 samples, validate on 3122 samples\n",
      "Epoch 1/100\n",
      "10246/10246 [==============================] - 1s 54us/step - loss: 0.1265 - val_loss: 0.0034\n",
      "Epoch 2/100\n",
      "10246/10246 [==============================] - 1s 71us/step - loss: 0.0210 - val_loss: 7.6437e-04\n",
      "Epoch 3/100\n",
      "10246/10246 [==============================] - 1s 76us/step - loss: 0.0063 - val_loss: 6.5989e-04\n",
      "Epoch 4/100\n",
      "10246/10246 [==============================] - 1s 73us/step - loss: 0.0057 - val_loss: 0.0014\n",
      "Epoch 5/100\n",
      "10246/10246 [==============================] - 1s 63us/step - loss: 0.0056 - val_loss: 0.0011\n",
      "Epoch 6/100\n",
      "10246/10246 [==============================] - 1s 59us/step - loss: 0.0053 - val_loss: 6.3134e-04\n",
      "Epoch 7/100\n",
      "10246/10246 [==============================] - 1s 76us/step - loss: 0.0053 - val_loss: 0.0014\n",
      "Epoch 8/100\n",
      "10246/10246 [==============================] - 1s 82us/step - loss: 0.0053 - val_loss: 7.4640e-04\n",
      "Epoch 9/100\n",
      "10246/10246 [==============================] - 1s 79us/step - loss: 0.0051 - val_loss: 7.5868e-04\n",
      "Epoch 10/100\n",
      "10246/10246 [==============================] - 1s 80us/step - loss: 0.0050 - val_loss: 8.1567e-04\n",
      "Epoch 11/100\n",
      "10246/10246 [==============================] - 1s 58us/step - loss: 0.0050 - val_loss: 7.5330e-04\n",
      "Epoch 12/100\n",
      "10246/10246 [==============================] - 1s 59us/step - loss: 0.0049 - val_loss: 0.0013\n",
      "Epoch 13/100\n",
      "10246/10246 [==============================] - 1s 62us/step - loss: 0.0048 - val_loss: 5.4534e-04\n",
      "Epoch 14/100\n",
      "10246/10246 [==============================] - 1s 60us/step - loss: 0.0048 - val_loss: 6.8581e-04\n",
      "Epoch 15/100\n",
      "10246/10246 [==============================] - 1s 60us/step - loss: 0.0046 - val_loss: 7.2174e-04\n",
      "Epoch 16/100\n",
      "10246/10246 [==============================] - 1s 67us/step - loss: 0.0047 - val_loss: 0.0013\n",
      "Epoch 17/100\n",
      "10246/10246 [==============================] - 1s 62us/step - loss: 0.0046 - val_loss: 0.0021\n",
      "Epoch 18/100\n",
      "10246/10246 [==============================] - 1s 62us/step - loss: 0.0043 - val_loss: 0.0017\n",
      "Epoch 19/100\n",
      "10246/10246 [==============================] - 1s 52us/step - loss: 0.0043 - val_loss: 0.0015\n",
      "Epoch 20/100\n",
      "10246/10246 [==============================] - 0s 34us/step - loss: 0.0041 - val_loss: 0.0033\n",
      "Epoch 21/100\n",
      "10246/10246 [==============================] - 0s 36us/step - loss: 0.0041 - val_loss: 0.0016\n",
      "Epoch 22/100\n",
      "10246/10246 [==============================] - 0s 34us/step - loss: 0.0040 - val_loss: 9.4304e-04\n",
      "Epoch 23/100\n",
      "10246/10246 [==============================] - 0s 35us/step - loss: 0.0040 - val_loss: 0.0012\n",
      "Epoch 24/100\n",
      "10246/10246 [==============================] - 0s 37us/step - loss: 0.0039 - val_loss: 0.0021\n",
      "Epoch 25/100\n",
      "10246/10246 [==============================] - 0s 36us/step - loss: 0.0039 - val_loss: 7.4615e-04\n",
      "Epoch 26/100\n",
      "10246/10246 [==============================] - 1s 60us/step - loss: 0.0038 - val_loss: 0.0010\n",
      "Epoch 27/100\n",
      "10246/10246 [==============================] - 1s 64us/step - loss: 0.0037 - val_loss: 0.0016\n",
      "Epoch 28/100\n",
      "10246/10246 [==============================] - 1s 67us/step - loss: 0.0036 - val_loss: 0.0012\n",
      "Epoch 29/100\n",
      "10246/10246 [==============================] - 1s 60us/step - loss: 0.0037 - val_loss: 0.0024\n",
      "Epoch 30/100\n",
      "10246/10246 [==============================] - 1s 65us/step - loss: 0.0037 - val_loss: 0.0017\n",
      "Epoch 31/100\n",
      "10246/10246 [==============================] - 1s 70us/step - loss: 0.0035 - val_loss: 0.0013\n",
      "Epoch 32/100\n",
      "10246/10246 [==============================] - 1s 76us/step - loss: 0.0035 - val_loss: 0.0025\n",
      "Epoch 33/100\n",
      "10246/10246 [==============================] - 1s 68us/step - loss: 0.0034 - val_loss: 8.0028e-04\n",
      "Epoch 34/100\n",
      "10246/10246 [==============================] - 1s 70us/step - loss: 0.0033 - val_loss: 0.0030\n",
      "Epoch 35/100\n",
      "10246/10246 [==============================] - 1s 68us/step - loss: 0.0033 - val_loss: 9.6771e-04\n",
      "Epoch 36/100\n",
      "10246/10246 [==============================] - 1s 78us/step - loss: 0.0032 - val_loss: 8.7614e-04\n",
      "Epoch 37/100\n",
      "10246/10246 [==============================] - 1s 70us/step - loss: 0.0032 - val_loss: 9.4996e-04\n",
      "Epoch 38/100\n",
      "10246/10246 [==============================] - 1s 59us/step - loss: 0.0032 - val_loss: 0.0030\n",
      "Epoch 39/100\n",
      "10246/10246 [==============================] - 1s 60us/step - loss: 0.0031 - val_loss: 0.0017\n",
      "Epoch 40/100\n",
      "10246/10246 [==============================] - 1s 61us/step - loss: 0.0030 - val_loss: 0.0015\n",
      "Epoch 41/100\n",
      "10246/10246 [==============================] - 1s 59us/step - loss: 0.0029 - val_loss: 0.0022\n",
      "Epoch 42/100\n",
      "10246/10246 [==============================] - 1s 58us/step - loss: 0.0030 - val_loss: 0.0019\n",
      "Epoch 43/100\n",
      "10246/10246 [==============================] - 1s 58us/step - loss: 0.0031 - val_loss: 0.0018\n",
      "Epoch 44/100\n",
      "10246/10246 [==============================] - 1s 58us/step - loss: 0.0029 - val_loss: 7.1991e-04\n",
      "Epoch 45/100\n",
      "10246/10246 [==============================] - 1s 60us/step - loss: 0.0029 - val_loss: 0.0016\n",
      "Epoch 46/100\n",
      "10246/10246 [==============================] - 1s 60us/step - loss: 0.0028 - val_loss: 9.5054e-04\n",
      "Epoch 47/100\n",
      "10246/10246 [==============================] - 0s 42us/step - loss: 0.0028 - val_loss: 0.0033\n",
      "Epoch 48/100\n",
      "10246/10246 [==============================] - 0s 34us/step - loss: 0.0028 - val_loss: 0.0016\n",
      "Epoch 49/100\n",
      "10246/10246 [==============================] - 0s 35us/step - loss: 0.0027 - val_loss: 0.0013\n",
      "Epoch 50/100\n",
      "10246/10246 [==============================] - 0s 37us/step - loss: 0.0027 - val_loss: 9.6475e-04\n",
      "Epoch 51/100\n",
      "10246/10246 [==============================] - 0s 35us/step - loss: 0.0027 - val_loss: 0.0014\n",
      "Epoch 52/100\n",
      "10246/10246 [==============================] - 0s 38us/step - loss: 0.0026 - val_loss: 0.0013\n",
      "Epoch 53/100\n",
      "10246/10246 [==============================] - 1s 58us/step - loss: 0.0026 - val_loss: 0.0023\n",
      "Epoch 54/100\n",
      "10246/10246 [==============================] - 1s 61us/step - loss: 0.0026 - val_loss: 0.0012\n",
      "Epoch 55/100\n",
      "10246/10246 [==============================] - 1s 58us/step - loss: 0.0025 - val_loss: 0.0013\n",
      "Epoch 56/100\n",
      "10246/10246 [==============================] - 1s 57us/step - loss: 0.0026 - val_loss: 0.0016\n",
      "Epoch 57/100\n",
      "10246/10246 [==============================] - 1s 57us/step - loss: 0.0025 - val_loss: 0.0017\n",
      "Epoch 58/100\n",
      "10246/10246 [==============================] - 1s 60us/step - loss: 0.0024 - val_loss: 9.9097e-04\n",
      "Epoch 59/100\n",
      "10246/10246 [==============================] - 1s 58us/step - loss: 0.0025 - val_loss: 6.5026e-04\n",
      "Epoch 60/100\n",
      "10246/10246 [==============================] - 1s 58us/step - loss: 0.0025 - val_loss: 0.0010\n",
      "Epoch 61/100\n",
      "10246/10246 [==============================] - 1s 66us/step - loss: 0.0023 - val_loss: 0.0014\n",
      "Epoch 62/100\n",
      "10246/10246 [==============================] - 1s 60us/step - loss: 0.0023 - val_loss: 0.0022\n",
      "Epoch 63/100\n",
      "10246/10246 [==============================] - 1s 68us/step - loss: 0.0023 - val_loss: 5.5394e-04\n",
      "Epoch 64/100\n",
      "10246/10246 [==============================] - 1s 77us/step - loss: 0.0023 - val_loss: 0.0038\n",
      "Epoch 65/100\n",
      "10246/10246 [==============================] - 1s 78us/step - loss: 0.0023 - val_loss: 0.0012\n",
      "Epoch 66/100\n",
      "10246/10246 [==============================] - 1s 61us/step - loss: 0.0022 - val_loss: 0.0016\n",
      "Epoch 67/100\n",
      "10246/10246 [==============================] - 1s 64us/step - loss: 0.0022 - val_loss: 7.6923e-04\n",
      "Epoch 68/100\n",
      "10246/10246 [==============================] - 1s 61us/step - loss: 0.0022 - val_loss: 0.0017\n",
      "Epoch 69/100\n",
      "10246/10246 [==============================] - 1s 62us/step - loss: 0.0022 - val_loss: 0.0014\n",
      "Epoch 70/100\n",
      "10246/10246 [==============================] - 1s 58us/step - loss: 0.0022 - val_loss: 5.2820e-04\n",
      "Epoch 71/100\n",
      "10246/10246 [==============================] - 1s 59us/step - loss: 0.0021 - val_loss: 0.0016\n",
      "Epoch 72/100\n",
      "10246/10246 [==============================] - 1s 60us/step - loss: 0.0021 - val_loss: 0.0015\n",
      "Epoch 73/100\n",
      "10246/10246 [==============================] - 1s 72us/step - loss: 0.0021 - val_loss: 0.0014\n",
      "Epoch 74/100\n",
      "10246/10246 [==============================] - 1s 85us/step - loss: 0.0022 - val_loss: 5.8939e-04\n",
      "Epoch 75/100\n",
      "10246/10246 [==============================] - 1s 83us/step - loss: 0.0021 - val_loss: 0.0014\n",
      "Epoch 76/100\n",
      "10246/10246 [==============================] - 1s 78us/step - loss: 0.0021 - val_loss: 0.0017\n",
      "Epoch 77/100\n",
      "10246/10246 [==============================] - 1s 79us/step - loss: 0.0019 - val_loss: 0.0018\n",
      "Epoch 78/100\n",
      "10246/10246 [==============================] - 1s 75us/step - loss: 0.0020 - val_loss: 0.0021\n",
      "Epoch 79/100\n",
      "10246/10246 [==============================] - 1s 75us/step - loss: 0.0020 - val_loss: 0.0020\n",
      "Epoch 80/100\n",
      "10246/10246 [==============================] - 1s 73us/step - loss: 0.0019 - val_loss: 0.0013\n",
      "Epoch 81/100\n",
      "10246/10246 [==============================] - 1s 72us/step - loss: 0.0020 - val_loss: 0.0015\n",
      "Epoch 82/100\n",
      "10246/10246 [==============================] - 1s 74us/step - loss: 0.0020 - val_loss: 8.4546e-04\n",
      "Epoch 83/100\n",
      "10246/10246 [==============================] - 1s 62us/step - loss: 0.0019 - val_loss: 0.0019\n",
      "Epoch 84/100\n",
      "10246/10246 [==============================] - ETA: 0s - loss: 0.001 - 1s 61us/step - loss: 0.0019 - val_loss: 0.0012\n",
      "Epoch 85/100\n",
      "10246/10246 [==============================] - 1s 63us/step - loss: 0.0019 - val_loss: 0.0010\n",
      "Epoch 86/100\n",
      "10246/10246 [==============================] - 1s 82us/step - loss: 0.0018 - val_loss: 0.0025\n",
      "Epoch 87/100\n",
      "10246/10246 [==============================] - 1s 78us/step - loss: 0.0018 - val_loss: 0.0026\n",
      "Epoch 88/100\n",
      "10246/10246 [==============================] - 1s 64us/step - loss: 0.0019 - val_loss: 0.0024\n",
      "Epoch 89/100\n",
      "10246/10246 [==============================] - 1s 73us/step - loss: 0.0019 - val_loss: 0.0013\n",
      "Epoch 90/100\n",
      "10246/10246 [==============================] - 1s 61us/step - loss: 0.0018 - val_loss: 0.0036\n",
      "Epoch 91/100\n",
      "10246/10246 [==============================] - 1s 66us/step - loss: 0.0019 - val_loss: 0.0022\n",
      "Epoch 92/100\n",
      "10246/10246 [==============================] - 1s 60us/step - loss: 0.0017 - val_loss: 0.0017\n",
      "Epoch 93/100\n",
      "10246/10246 [==============================] - 1s 59us/step - loss: 0.0017 - val_loss: 0.0016\n",
      "Epoch 94/100\n",
      "10246/10246 [==============================] - 1s 53us/step - loss: 0.0018 - val_loss: 0.0013\n",
      "Epoch 95/100\n",
      "10246/10246 [==============================] - 0s 45us/step - loss: 0.0018 - val_loss: 0.0032\n",
      "Epoch 96/100\n",
      "10246/10246 [==============================] - 0s 34us/step - loss: 0.0017 - val_loss: 9.7922e-04\n",
      "Epoch 97/100\n",
      "10246/10246 [==============================] - 0s 37us/step - loss: 0.0017 - val_loss: 0.0013\n",
      "Epoch 98/100\n",
      "10246/10246 [==============================] - 0s 40us/step - loss: 0.0017 - val_loss: 0.0012\n",
      "Epoch 99/100\n",
      "10246/10246 [==============================] - 0s 42us/step - loss: 0.0017 - val_loss: 0.0011\n",
      "Epoch 100/100\n",
      "10246/10246 [==============================] - 1s 67us/step - loss: 0.0017 - val_loss: 0.0014\n"
     ]
    }
   ],
   "source": [
    "history=model.fit(auxiliar_t, precio_t, \n",
    "          batch_size = 32,\n",
    "          epochs = 100, \n",
    "          validation_data = (auxiliar_te, precio_te),\n",
    "          shuffle=False)"
   ]
  },
  {
   "cell_type": "markdown",
   "id": "4535ed40",
   "metadata": {},
   "source": [
    "En esto punto, sólo hace falta graficar y evaluar el rendimiento de la red usando los datos de prueba."
   ]
  },
  {
   "cell_type": "code",
   "execution_count": 21,
   "id": "7a15531a",
   "metadata": {},
   "outputs": [
    {
     "data": {
      "image/png": "[encoded data removed]",
      "text/plain": [
       "<Figure size 432x288 with 1 Axes>"
      ]
     },
     "metadata": {
      "needs_background": "light"
     },
     "output_type": "display_data"
    }
   ],
   "source": [
    "loss = history.history['loss']\n",
    "val_loss = history.history['val_loss']\n",
    "\n",
    "epochs = range(len(loss))\n",
    "\n",
    "plt.figure()\n",
    "\n",
    "plt.plot(epochs, loss, 'b', label='Training loss')\n",
    "plt.plot(epochs, val_loss, 'r', label='Validation loss')\n",
    "plt.title(\"Training and Validation Loss\")\n",
    "plt.legend()\n",
    "\n",
    "plt.show()"
   ]
  },
  {
   "cell_type": "code",
   "execution_count": 22,
   "id": "9ab90408",
   "metadata": {},
   "outputs": [
    {
     "data": {
      "text/plain": [
       "[Text(-500.0, 0, ''),\n",
       " Text(0.0, 0, ''),\n",
       " Text(500.0, 0, ''),\n",
       " Text(1000.0, 0, ''),\n",
       " Text(1500.0, 0, ''),\n",
       " Text(2000.0, 0, ''),\n",
       " Text(2500.0, 0, ''),\n",
       " Text(3000.0, 0, ''),\n",
       " Text(3500.0, 0, '')]"
      ]
     },
     "execution_count": 22,
     "metadata": {},
     "output_type": "execute_result"
    },
    {
     "data": {
      "image/png": "[encoded data removed]",
      "text/plain": [
       "<Figure size 432x288 with 1 Axes>"
      ]
     },
     "metadata": {
      "needs_background": "light"
     },
     "output_type": "display_data"
    }
   ],
   "source": [
    "original = pd.DataFrame(precio_te)\n",
    "predictions = pd.DataFrame(model.predict(auxiliar_te))\n",
    "\n",
    "j=59371.86-50406.64\n",
    "ax = sns.lineplot(x=original.index, y=(original[0]*j+50406.64), label=\"Test Data\", color='royalblue')\n",
    "ax = sns.lineplot(x=predictions.index, y=(predictions[0]*j+50406.64), label=\"Prediction\", color='tomato')\n",
    "ax.set_title('Bitcoin price', size = 14, fontweight='bold')\n",
    "ax.set_xlabel(\"Time\", size = 14)\n",
    "ax.set_ylabel(\"Cost\", size = 14)\n",
    "ax.set_xticklabels('', size=10)"
   ]
  },
  {
   "cell_type": "markdown",
   "id": "f8137446",
   "metadata": {},
   "source": [
    "# Conclusión\n",
    "En comparación al mercado de las divisas y acciones, las criptomonedas, al no estar reguladas por un órgano central, varían  muchísimo más, por lo que se hace más difícil predecir sus futuros valores observando la situación geopolítica. Aunque los resultados aquí presentados no son demasiado concluyentes, la realización de este trabajo me permitió darme cuenta cómo se puede utilizar un problema anterior (el de reconocimiento de digítos visto en clase) para abordar otro esencialmente diferente. El preprocesamiento de los datos hecho aquí, permitió darles a éstos la misma forma que tenían las imágenes de los digítos del ejercicio del curso, por loq que, en ese punto, el trabajo ya estaba hecho."
   ]
  }
 ],
 "metadata": {
  "kernelspec": {
   "display_name": "Python 3",
   "language": "python",
   "name": "python3"
  },
  "language_info": {
   "codemirror_mode": {
    "name": "ipython",
    "version": 3
   },
   "file_extension": ".py",
   "mimetype": "text/x-python",
   "name": "python",
   "nbconvert_exporter": "python",
   "pygments_lexer": "ipython3",
   "version": "3.6.13"
  }
 },
 "nbformat": 4,
 "nbformat_minor": 5
}
