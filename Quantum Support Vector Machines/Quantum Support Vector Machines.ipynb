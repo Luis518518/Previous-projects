{
 "cells": [
  {
   "cell_type": "markdown",
   "metadata": {},
   "source": [
    "# Programando la Máquina de Soporte Vectorial Cuántica"
   ]
  },
  {
   "cell_type": "markdown",
   "metadata": {},
   "source": [
    "Como mencionamos anteriormente, la eficacia de las máquinas de soporte vectorial radica en el hecho de encontrar el hiperplano de separación entre dos conjuntos originalmente no linealmente separables, utilizando funciones kernel. En esta sección, desarrollaremos un ejercicio de aprendizaje supervisado utilizando la versión clásica y la cuántica de este algoritmo, con el objetivo de determinar si existe alguna ventaja cuántica. "
   ]
  },
  {
   "cell_type": "markdown",
   "metadata": {},
   "source": [
    "## Máquina de Soporte Vectorial Clásica"
   ]
  },
  {
   "cell_type": "code",
   "execution_count": 1,
   "metadata": {},
   "outputs": [],
   "source": [
    "import numpy as np\n",
    "import pandas as pd\n",
    "import matplotlib.pyplot as plt\n",
    "from sklearn import datasets\n",
    "from sklearn.model_selection import train_test_split\n",
    "from sklearn.svm import SVC\n",
    "from sklearn.decomposition import PCA\n",
    "from sklearn.preprocessing import StandardScaler, MinMaxScaler\n",
    "\n",
    "from qiskit import Aer, execute\n",
    "from qiskit.circuit import QuantumCircuit, Parameter, ParameterVector\n",
    "from qiskit.circuit.library import PauliFeatureMap, ZFeatureMap, ZZFeatureMap\n",
    "from qiskit.circuit.library import TwoLocal, NLocal, RealAmplitudes, EfficientSU2\n",
    "from qiskit.circuit.library import HGate, RXGate, RYGate, RZGate, CXGate, CRXGate, CRZGate\n",
    "from qiskit_machine_learning.kernels import QuantumKernel"
   ]
  },
  {
   "cell_type": "code",
   "execution_count": 2,
   "metadata": {
    "scrolled": true
   },
   "outputs": [
    {
     "data": {
      "text/html": [
       "<div>\n",
       "<style scoped>\n",
       "    .dataframe tbody tr th:only-of-type {\n",
       "        vertical-align: middle;\n",
       "    }\n",
       "\n",
       "    .dataframe tbody tr th {\n",
       "        vertical-align: top;\n",
       "    }\n",
       "\n",
       "    .dataframe thead th {\n",
       "        text-align: right;\n",
       "    }\n",
       "</style>\n",
       "<table border=\"1\" class=\"dataframe\">\n",
       "  <thead>\n",
       "    <tr style=\"text-align: right;\">\n",
       "      <th></th>\n",
       "      <th>age</th>\n",
       "      <th>sex</th>\n",
       "      <th>cp</th>\n",
       "      <th>trtbps</th>\n",
       "      <th>chol</th>\n",
       "      <th>fbs</th>\n",
       "      <th>restecg</th>\n",
       "      <th>thalachh</th>\n",
       "      <th>exng</th>\n",
       "      <th>oldpeak</th>\n",
       "      <th>slp</th>\n",
       "      <th>caa</th>\n",
       "      <th>thall</th>\n",
       "      <th>output</th>\n",
       "    </tr>\n",
       "  </thead>\n",
       "  <tbody>\n",
       "    <tr>\n",
       "      <th>0</th>\n",
       "      <td>63</td>\n",
       "      <td>1</td>\n",
       "      <td>3</td>\n",
       "      <td>145</td>\n",
       "      <td>233</td>\n",
       "      <td>1</td>\n",
       "      <td>0</td>\n",
       "      <td>150</td>\n",
       "      <td>0</td>\n",
       "      <td>2.3</td>\n",
       "      <td>0</td>\n",
       "      <td>0</td>\n",
       "      <td>1</td>\n",
       "      <td>1</td>\n",
       "    </tr>\n",
       "    <tr>\n",
       "      <th>1</th>\n",
       "      <td>37</td>\n",
       "      <td>1</td>\n",
       "      <td>2</td>\n",
       "      <td>130</td>\n",
       "      <td>250</td>\n",
       "      <td>0</td>\n",
       "      <td>1</td>\n",
       "      <td>187</td>\n",
       "      <td>0</td>\n",
       "      <td>3.5</td>\n",
       "      <td>0</td>\n",
       "      <td>0</td>\n",
       "      <td>2</td>\n",
       "      <td>1</td>\n",
       "    </tr>\n",
       "    <tr>\n",
       "      <th>2</th>\n",
       "      <td>41</td>\n",
       "      <td>0</td>\n",
       "      <td>1</td>\n",
       "      <td>130</td>\n",
       "      <td>204</td>\n",
       "      <td>0</td>\n",
       "      <td>0</td>\n",
       "      <td>172</td>\n",
       "      <td>0</td>\n",
       "      <td>1.4</td>\n",
       "      <td>2</td>\n",
       "      <td>0</td>\n",
       "      <td>2</td>\n",
       "      <td>1</td>\n",
       "    </tr>\n",
       "    <tr>\n",
       "      <th>3</th>\n",
       "      <td>56</td>\n",
       "      <td>1</td>\n",
       "      <td>1</td>\n",
       "      <td>120</td>\n",
       "      <td>236</td>\n",
       "      <td>0</td>\n",
       "      <td>1</td>\n",
       "      <td>178</td>\n",
       "      <td>0</td>\n",
       "      <td>0.8</td>\n",
       "      <td>2</td>\n",
       "      <td>0</td>\n",
       "      <td>2</td>\n",
       "      <td>1</td>\n",
       "    </tr>\n",
       "    <tr>\n",
       "      <th>4</th>\n",
       "      <td>57</td>\n",
       "      <td>0</td>\n",
       "      <td>0</td>\n",
       "      <td>120</td>\n",
       "      <td>354</td>\n",
       "      <td>0</td>\n",
       "      <td>1</td>\n",
       "      <td>163</td>\n",
       "      <td>1</td>\n",
       "      <td>0.6</td>\n",
       "      <td>2</td>\n",
       "      <td>0</td>\n",
       "      <td>2</td>\n",
       "      <td>1</td>\n",
       "    </tr>\n",
       "    <tr>\n",
       "      <th>...</th>\n",
       "      <td>...</td>\n",
       "      <td>...</td>\n",
       "      <td>...</td>\n",
       "      <td>...</td>\n",
       "      <td>...</td>\n",
       "      <td>...</td>\n",
       "      <td>...</td>\n",
       "      <td>...</td>\n",
       "      <td>...</td>\n",
       "      <td>...</td>\n",
       "      <td>...</td>\n",
       "      <td>...</td>\n",
       "      <td>...</td>\n",
       "      <td>...</td>\n",
       "    </tr>\n",
       "    <tr>\n",
       "      <th>298</th>\n",
       "      <td>57</td>\n",
       "      <td>0</td>\n",
       "      <td>0</td>\n",
       "      <td>140</td>\n",
       "      <td>241</td>\n",
       "      <td>0</td>\n",
       "      <td>1</td>\n",
       "      <td>123</td>\n",
       "      <td>1</td>\n",
       "      <td>0.2</td>\n",
       "      <td>1</td>\n",
       "      <td>0</td>\n",
       "      <td>3</td>\n",
       "      <td>0</td>\n",
       "    </tr>\n",
       "    <tr>\n",
       "      <th>299</th>\n",
       "      <td>45</td>\n",
       "      <td>1</td>\n",
       "      <td>3</td>\n",
       "      <td>110</td>\n",
       "      <td>264</td>\n",
       "      <td>0</td>\n",
       "      <td>1</td>\n",
       "      <td>132</td>\n",
       "      <td>0</td>\n",
       "      <td>1.2</td>\n",
       "      <td>1</td>\n",
       "      <td>0</td>\n",
       "      <td>3</td>\n",
       "      <td>0</td>\n",
       "    </tr>\n",
       "    <tr>\n",
       "      <th>300</th>\n",
       "      <td>68</td>\n",
       "      <td>1</td>\n",
       "      <td>0</td>\n",
       "      <td>144</td>\n",
       "      <td>193</td>\n",
       "      <td>1</td>\n",
       "      <td>1</td>\n",
       "      <td>141</td>\n",
       "      <td>0</td>\n",
       "      <td>3.4</td>\n",
       "      <td>1</td>\n",
       "      <td>2</td>\n",
       "      <td>3</td>\n",
       "      <td>0</td>\n",
       "    </tr>\n",
       "    <tr>\n",
       "      <th>301</th>\n",
       "      <td>57</td>\n",
       "      <td>1</td>\n",
       "      <td>0</td>\n",
       "      <td>130</td>\n",
       "      <td>131</td>\n",
       "      <td>0</td>\n",
       "      <td>1</td>\n",
       "      <td>115</td>\n",
       "      <td>1</td>\n",
       "      <td>1.2</td>\n",
       "      <td>1</td>\n",
       "      <td>1</td>\n",
       "      <td>3</td>\n",
       "      <td>0</td>\n",
       "    </tr>\n",
       "    <tr>\n",
       "      <th>302</th>\n",
       "      <td>57</td>\n",
       "      <td>0</td>\n",
       "      <td>1</td>\n",
       "      <td>130</td>\n",
       "      <td>236</td>\n",
       "      <td>0</td>\n",
       "      <td>0</td>\n",
       "      <td>174</td>\n",
       "      <td>0</td>\n",
       "      <td>0.0</td>\n",
       "      <td>1</td>\n",
       "      <td>1</td>\n",
       "      <td>2</td>\n",
       "      <td>0</td>\n",
       "    </tr>\n",
       "  </tbody>\n",
       "</table>\n",
       "<p>303 rows × 14 columns</p>\n",
       "</div>"
      ],
      "text/plain": [
       "     age  sex  cp  trtbps  chol  fbs  restecg  thalachh  exng  oldpeak  slp  \\\n",
       "0     63    1   3     145   233    1        0       150     0      2.3    0   \n",
       "1     37    1   2     130   250    0        1       187     0      3.5    0   \n",
       "2     41    0   1     130   204    0        0       172     0      1.4    2   \n",
       "3     56    1   1     120   236    0        1       178     0      0.8    2   \n",
       "4     57    0   0     120   354    0        1       163     1      0.6    2   \n",
       "..   ...  ...  ..     ...   ...  ...      ...       ...   ...      ...  ...   \n",
       "298   57    0   0     140   241    0        1       123     1      0.2    1   \n",
       "299   45    1   3     110   264    0        1       132     0      1.2    1   \n",
       "300   68    1   0     144   193    1        1       141     0      3.4    1   \n",
       "301   57    1   0     130   131    0        1       115     1      1.2    1   \n",
       "302   57    0   1     130   236    0        0       174     0      0.0    1   \n",
       "\n",
       "     caa  thall  output  \n",
       "0      0      1       1  \n",
       "1      0      2       1  \n",
       "2      0      2       1  \n",
       "3      0      2       1  \n",
       "4      0      2       1  \n",
       "..   ...    ...     ...  \n",
       "298    0      3       0  \n",
       "299    0      3       0  \n",
       "300    2      3       0  \n",
       "301    1      3       0  \n",
       "302    1      2       0  \n",
       "\n",
       "[303 rows x 14 columns]"
      ]
     },
     "execution_count": 2,
     "metadata": {},
     "output_type": "execute_result"
    }
   ],
   "source": [
    "dataframe = pd.read_csv('C:\\\\Users\\\\leon-\\\\Documents\\\\Otoño 2021\\\\Quantum Computing\\\\QSVM\\\\Heart\\\\heart.csv')\n",
    "dataframe"
   ]
  },
  {
   "cell_type": "markdown",
   "metadata": {},
   "source": [
    "A continuación, de los 303 datos que se tienen, contamos cuántos hay de cada caso."
   ]
  },
  {
   "cell_type": "code",
   "execution_count": 3,
   "metadata": {},
   "outputs": [
    {
     "name": "stdout",
     "output_type": "stream",
     "text": [
      "output\n",
      "0    138\n",
      "1    165\n",
      "dtype: int64\n"
     ]
    },
    {
     "data": {
      "image/png": "[encoded data removed]",
      "text/plain": [
       "<Figure size 432x288 with 1 Axes>"
      ]
     },
     "metadata": {
      "needs_background": "light"
     },
     "output_type": "display_data"
    }
   ],
   "source": [
    "print(dataframe.groupby('output').size())\n",
    "clases = pd.value_counts(dataframe['output'], sort = True)\n",
    "clases.plot(kind = 'bar', rot=0)\n",
    "plt.xticks(range(3))\n",
    "plt.title(\"Frecuencia de cada uno de los casos\")\n",
    "plt.xlabel(\"Output\")\n",
    "plt.ylabel(\"Número de casos\");"
   ]
  },
  {
   "cell_type": "markdown",
   "metadata": {},
   "source": [
    "Separamos el vector de etiquetas de las demás columnas, así como dividimos el set de datos en 80% y 20% para el conjunto de entrenamiento y prueba, respectivamente."
   ]
  },
  {
   "cell_type": "code",
   "execution_count": 4,
   "metadata": {},
   "outputs": [],
   "source": [
    "X = np.array(dataframe.drop(['output'],1))\n",
    "Output = np.array(dataframe['output'])"
   ]
  },
  {
   "cell_type": "code",
   "execution_count": 5,
   "metadata": {},
   "outputs": [
    {
     "name": "stdout",
     "output_type": "stream",
     "text": [
      "Datos del entrenamiento:  (242, 13)\n",
      "Datos de la prueba:  (61, 13)\n"
     ]
    }
   ],
   "source": [
    "entrenamiento, prueba, entrenamiento_tag, prueba_tag = train_test_split(\n",
    "     X, Output, test_size=0.2, random_state=22)\n",
    "print('Datos del entrenamiento: ',entrenamiento.shape)\n",
    "print('Datos de la prueba: ',prueba.shape)"
   ]
  },
  {
   "cell_type": "code",
   "execution_count": 6,
   "metadata": {},
   "outputs": [
    {
     "data": {
      "text/plain": [
       "array([[58.,  1.,  1., ...,  1.,  4.,  3.],\n",
       "       [44.,  1.,  2., ...,  2.,  0.,  2.],\n",
       "       [49.,  0.,  1., ...,  1.,  0.,  2.],\n",
       "       ...,\n",
       "       [42.,  0.,  0., ...,  1.,  0.,  2.],\n",
       "       [68.,  1.,  0., ...,  1.,  2.,  3.],\n",
       "       [42.,  1.,  1., ...,  2.,  0.,  2.]])"
      ]
     },
     "execution_count": 6,
     "metadata": {},
     "output_type": "execute_result"
    }
   ],
   "source": [
    "entrenamiento"
   ]
  },
  {
   "cell_type": "code",
   "execution_count": 7,
   "metadata": {},
   "outputs": [],
   "source": [
    "#Reducir dimensiones\n",
    "#n_dim = 4\n",
    "#pca = PCA(n_components=n_dim).fit(X)\n",
    "#sample_train = pca.transform(sample_train)\n",
    "#sample_test = pca.transform(sample_test)"
   ]
  },
  {
   "cell_type": "markdown",
   "metadata": {},
   "source": [
    "En la siguientes líneas, escalamos, normalizamos y cortamos nuestros datos."
   ]
  },
  {
   "cell_type": "code",
   "execution_count": 8,
   "metadata": {},
   "outputs": [],
   "source": [
    "escala = StandardScaler().fit(entrenamiento)\n",
    "entrenamiento = escala.transform(entrenamiento)\n",
    "prueba = escala.transform(prueba)\n",
    "\n",
    "samples = np.append(entrenamiento, prueba, axis=0)\n",
    "minmax_scale = MinMaxScaler((-1, 1)).fit(samples)\n",
    "entrenamiento = minmax_scale.transform(entrenamiento)\n",
    "prueba = minmax_scale.transform(prueba)"
   ]
  },
  {
   "cell_type": "code",
   "execution_count": 9,
   "metadata": {},
   "outputs": [],
   "source": [
    "entrenamiento_size = 100\n",
    "entrenamiento = entrenamiento[:entrenamiento_size]\n",
    "entrenamiento_tag= entrenamiento_tag[:entrenamiento_size]\n",
    "\n",
    "prueba_size = 20\n",
    "prueba= prueba[:prueba_size]\n",
    "prueba_tag = prueba_tag[:prueba_size]"
   ]
  },
  {
   "cell_type": "code",
   "execution_count": 10,
   "metadata": {},
   "outputs": [
    {
     "name": "stdout",
     "output_type": "stream",
     "text": [
      "[ 0.375       1.         -0.33333333 -0.35849057 -0.62557078  1.\n",
      " -1.          0.05343511 -1.         -1.          1.         -1.\n",
      "  0.33333333] 1\n"
     ]
    }
   ],
   "source": [
    "i=18\n",
    "print(prueba[i], prueba_tag[i])"
   ]
  },
  {
   "cell_type": "code",
   "execution_count": 11,
   "metadata": {},
   "outputs": [],
   "source": [
    "ejemplo=prueba[i]"
   ]
  },
  {
   "cell_type": "code",
   "execution_count": 12,
   "metadata": {},
   "outputs": [
    {
     "name": "stdout",
     "output_type": "stream",
     "text": [
      "linear kernel classification test score:  0.80\n",
      "Predicción:  [0]\n",
      "poly kernel classification test score:  0.80\n",
      "Predicción:  [1]\n",
      "rbf kernel classification test score:  0.80\n",
      "Predicción:  [0]\n",
      "sigmoid kernel classification test score:  0.85\n",
      "Predicción:  [1]\n"
     ]
    }
   ],
   "source": [
    "kernels_clasicos = ['linear', 'poly', 'rbf', 'sigmoid']\n",
    "\n",
    "for kernel in kernels_clasicos:\n",
    "    svc_clasico = SVC(kernel=kernel)\n",
    "    svc_clasico.fit(entrenamiento, entrenamiento_tag)\n",
    "    puntuacion = svc_clasico.score(prueba, prueba_tag)\n",
    "    \n",
    "    sol =svc_clasico.predict([ejemplo])\n",
    "\n",
    "    print('%s kernel classification test score:  %0.2f' % (kernel, puntuacion))\n",
    "    print('Predicción: ', sol)"
   ]
  },
  {
   "cell_type": "markdown",
   "metadata": {},
   "source": [
    "# Parte cuántica"
   ]
  },
  {
   "cell_type": "markdown",
   "metadata": {},
   "source": [
    "Como se mencionó anteriormente, una máquina de soporte vectorial cuántica funciona de la misma forma que una clásica, con la única diferencia de que se utiliza una compuerta cuántica en un circuito a manera de transformación del espacio de entradas a un espacio de características cuántico. A saber:\n",
    "\n",
    "$$\n",
    "\\left| \\langle \\phi^\\dagger(\\mathbf{x}_j)| \\phi(\\mathbf{x}_i) \\rangle \\right|^{2} = \n",
    "\\left| \\langle 0^{\\otimes n} | \\mathbf{U_\\phi^\\dagger}(\\mathbf{x}_j) \\mathbf{U_\\phi}(\\mathbf{x_i}) | 0^{\\otimes n} \\rangle \\right|^{2}\n",
    "$$\n",
    "\n",
    "Así, $$\\left| \\langle 0^{\\otimes n} | \\mathbf{U_\\phi^\\dagger}(\\mathbf{x}_j) \\mathbf{U_\\phi}(\\mathbf{x_i}) | 0^{\\otimes n} \\rangle \\right|^{2}$$ es el valor que tendrá cada uno de los productos escalares en el problema de maximización de $$ L(\\vec{\\alpha})=\\sum_{i=1}^{n}\\alpha_{i}-\\frac{1}{2}\\sum_{i,j=0}^{n}\\alpha_{i}\\alpha_{j}y_{i}y_{j}K(\\vec{x_{i}}, \\vec{x_{j}})$$.\n",
    "\n",
    "Hay varias formas en las que se puede obtener los valores anteriores. En el que nos enfocaremos es en el de crear el circuito  $$\\mathbf{U_\\phi^\\dagger}(\\mathbf{x}_j) \\mathbf{U_\\phi}(\\mathbf{x_i}) $$ y medir la probabilidad de obtener $$| 0^{\\otimes n} \\rangle$$.\n",
    "\n",
    "La compuertas más utilizadas para este propósito son las conocidas como Pauli Feature Maps, que se pueden describir como sigue: $$ \\mathcal{U}_{\\Phi(\\mathbf{x})}=\\prod_d U_{\\Phi(\\mathbf{x})}H^{\\otimes n},\\ U_{\\Phi(\\mathbf{x})}=\\exp\\left(i\\sum_{S\\subseteq[n]}\\phi_S(\\mathbf{x})\\prod_{k\\in S} P_i\\right). $$\n",
    "\n",
    "Donde $P_i \\in \\{ I, X, Y, Z \\}$, y $S$ es un par ordenado que indica las conexiones que se necesitan para calcular $\\phi_S$ : $S \\in \\{\\binom{n}{k}\\ combinaciones,\\ k = 1,... n \\}$. Aunque $phi_{S}$ puede variar, la usada por default es:\n",
    "$$\\phi_S:\\mathbf{x}\\mapsto \\Bigg\\{\\begin{array}{ll}\n",
    "    x_i & \\mbox{if}\\ S=\\{i\\} \\\\\n",
    "        (\\pi-x_i)(\\pi-x_j) & \\mbox{if}\\ S=\\{i,j\\}\n",
    "    \\end{array}$$\n",
    "    \n",
    "Por ejemplo $k = 1, P_0 = Z$, obtenemos: \n",
    "$$\\mathcal{U}_{\\Phi(\\mathbf{x})} = \\left( \\exp\\left(i\\sum_j \\phi_{\\{j\\}}(\\mathbf{x}) \\, Z_j\\right) \\, H^{\\otimes n} \\right)^d.$$\n",
    "\n",
    "Que es conocida como `ZFeatureMap` y biene incluida en Qiskit. \n"
   ]
  },
  {
   "cell_type": "code",
   "execution_count": 13,
   "metadata": {},
   "outputs": [
    {
     "data": {
      "image/png": "[encoded data removed]",
      "text/plain": [
       "<Figure size 206.997x204.68 with 1 Axes>"
      ]
     },
     "execution_count": 13,
     "metadata": {},
     "output_type": "execute_result"
    }
   ],
   "source": [
    "map_z = ZFeatureMap(feature_dimension=3, reps=1)\n",
    "map_z.decompose().draw('mpl')"
   ]
  },
  {
   "cell_type": "code",
   "execution_count": null,
   "metadata": {},
   "outputs": [],
   "source": []
  },
  {
   "cell_type": "markdown",
   "metadata": {},
   "source": [
    "Teniendo en cuenta que, si $X$ es una matriz, $$e^{X}=\\sum^{\\inf}_{k=0}\\frac{X^{k}}{k!}$$, podemos desarrollar la parte exponencial de la ecuación del mapa de características de Pauli y llegar a la compuerta fase (P) a un ángulo de $2\\phi$, cuando k=1.\n",
    "\n",
    "Un ejemplo más interesante es el mapa de características que obtenemos al hacer and $k = 2, P_0 = Z, P_1 = ZZ$:\n",
    "$$\\mathcal{U}_{\\Phi(\\mathbf{x})} = \\left( \\exp\\left(i\\sum_{jk} \\phi_{\\{j,k\\}}(\\mathbf{x}) \\, Z_j \\otimes Z_k\\right) \\, \\exp\\left(i\\sum_j \\phi_{\\{j\\}}(\\mathbf{x}) \\, Z_j\\right) \\, H^{\\otimes n} \\right)^d.$$ \n",
    "\n",
    "Que está integrada en Qiskit como la compuerta `ZZFeatureMap` y se puede visualizar así:"
   ]
  },
  {
   "cell_type": "code",
   "execution_count": 14,
   "metadata": {},
   "outputs": [
    {
     "data": {
      "image/png": "[encoded data removed]",
      "text/plain": [
       "<Figure size 1110x204.68 with 1 Axes>"
      ]
     },
     "execution_count": 14,
     "metadata": {},
     "output_type": "execute_result"
    }
   ],
   "source": [
    "map_zz = ZZFeatureMap(feature_dimension=3, reps=1)\n",
    "map_zz.decompose().draw('mpl')"
   ]
  },
  {
   "cell_type": "markdown",
   "metadata": {},
   "source": [
    "Un ejemplo sencillo de cómo podemos codificar información usando `ZZFeatureMap`:"
   ]
  },
  {
   "cell_type": "code",
   "execution_count": 15,
   "metadata": {},
   "outputs": [
    {
     "data": {
      "image/png": "[encoded data removed]",
      "text/plain": [
       "<Figure size 989.452x144.48 with 1 Axes>"
      ]
     },
     "execution_count": 15,
     "metadata": {},
     "output_type": "execute_result"
    }
   ],
   "source": [
    "x = [-0.5,0.1]\n",
    "\n",
    "xcod = ZZFeatureMap(feature_dimension=2, reps=2, entanglement='linear', insert_barriers=True)\n",
    "circuito = xcod.bind_parameters(x)\n",
    "circuito.decompose().draw(output='mpl')"
   ]
  },
  {
   "cell_type": "markdown",
   "metadata": {},
   "source": [
    "Ahora, un circuito $\\mathbf{U_\\phi^\\dagger}(\\mathbf{x}_j) \\mathbf{U_\\phi}(\\mathbf{x_i}) $ para dos vectores ejemplo usando `ZZFeatureMap` sería: "
   ]
  },
  {
   "cell_type": "code",
   "execution_count": 16,
   "metadata": {},
   "outputs": [
    {
     "data": {
      "image/png": "[encoded data removed]",
      "text/plain": [
       "<Figure size 1591.6x866.88 with 1 Axes>"
      ]
     },
     "execution_count": 16,
     "metadata": {},
     "output_type": "execute_result"
    }
   ],
   "source": [
    "x1 = [-0.5,0.1,.2]\n",
    "y1 = [0.2,0.5,.3]\n",
    "\n",
    "zz_map = ZZFeatureMap(feature_dimension=3, reps=2, entanglement='circular', insert_barriers=False)\n",
    "zz_kernel = QuantumKernel(feature_map=zz_map, quantum_instance=Aer.get_backend('statevector_simulator'))\n",
    "\n",
    "xycod = zz_kernel.construct_circuit(x1, y1)\n",
    "xycod.decompose().decompose().draw(output='mpl')"
   ]
  },
  {
   "cell_type": "markdown",
   "metadata": {},
   "source": [
    "También podemos jugar con las compuertas de esta transformación. Por ejemplo, si hacemos que $P_0 = X, P_1 = Y, P_2 = ZZ$:\n",
    "$$\\mathcal{U}_{\\Phi(\\mathbf{x})} = \\left( \\exp\\left(i\\sum_{jk} \\phi_{\\{j,k\\}}(\\mathbf{x}) \\, Z_j \\otimes Z_k\\right) \\, \\exp\\left(i\\sum_{j} \\phi_{\\{j\\}}(\\mathbf{x}) \\, Y_j\\right) \\, \\exp\\left(i\\sum_j \\phi_{\\{j\\}}(\\mathbf{x}) \\, X_j\\right) \\, H^{\\otimes n} \\right)^d.$$ \n",
    "\n",
    "Que se visualiza:"
   ]
  },
  {
   "cell_type": "code",
   "execution_count": 17,
   "metadata": {},
   "outputs": [
    {
     "data": {
      "image/png": "[encoded data removed]",
      "text/plain": [
       "<Figure size 1411x204.68 with 1 Axes>"
      ]
     },
     "execution_count": 17,
     "metadata": {},
     "output_type": "execute_result"
    }
   ],
   "source": [
    "pauli = PauliFeatureMap(feature_dimension=3, reps=1, paulis = ['X', 'Y', 'ZZ'])\n",
    "pauli.decompose().draw('mpl')"
   ]
  },
  {
   "cell_type": "markdown",
   "metadata": {},
   "source": [
    "Procedamos entonces crear una Matriz de Gram, que se utilizará a continuación para entrenar un SVM clásica. "
   ]
  },
  {
   "cell_type": "code",
   "execution_count": 18,
   "metadata": {},
   "outputs": [],
   "source": [
    "#Reducir dimensiones\n",
    "n_dim = 4\n",
    "pca = PCA(n_components=n_dim).fit(entrenamiento)\n",
    "pca = PCA(n_components=n_dim).fit(prueba)\n",
    "entrenamiento = pca.transform(entrenamiento)\n",
    "prueba = pca.transform(prueba)"
   ]
  },
  {
   "cell_type": "code",
   "execution_count": 19,
   "metadata": {},
   "outputs": [
    {
     "name": "stdout",
     "output_type": "stream",
     "text": [
      "(100, 100)\n",
      "(20, 100)\n"
     ]
    }
   ],
   "source": [
    "zzgram_train = zz_kernel.evaluate(x_vec=entrenamiento)\n",
    "zzgram_test = zz_kernel.evaluate(x_vec=prueba, y_vec=entrenamiento)\n",
    "print(zzgram_train.shape)\n",
    "print(zzgram_test.shape)"
   ]
  },
  {
   "cell_type": "code",
   "execution_count": null,
   "metadata": {},
   "outputs": [],
   "source": []
  },
  {
   "cell_type": "code",
   "execution_count": 20,
   "metadata": {},
   "outputs": [
    {
     "name": "stdout",
     "output_type": "stream",
     "text": [
      "ZZ precisión: 0.6\n"
     ]
    }
   ],
   "source": [
    "zz_svc = SVC(kernel='precomputed')\n",
    "zz_svc.fit(zzgram_train, entrenamiento_tag)\n",
    "zz_score = zz_svc.score(zzgram_test, prueba_tag)\n",
    "\n",
    "\n",
    "print(f'ZZ precisión: {zz_score}')\n"
   ]
  },
  {
   "cell_type": "code",
   "execution_count": 21,
   "metadata": {},
   "outputs": [],
   "source": [
    "Pauli_map = PauliFeatureMap(feature_dimension=3, reps=2, paulis = ['X', 'Y', 'ZZ'])\n",
    "Pauli_kernel = QuantumKernel(feature_map=Pauli_map, quantum_instance=Aer.get_backend('statevector_simulator'))\n",
    "\n",
    "z_map = ZFeatureMap(feature_dimension=n_dim, reps=2)\n",
    "z_kernel = QuantumKernel(feature_map=z_map, quantum_instance=Aer.get_backend('statevector_simulator'))"
   ]
  },
  {
   "cell_type": "code",
   "execution_count": 22,
   "metadata": {},
   "outputs": [],
   "source": [
    "gram_Pauli = Pauli_kernel.evaluate(x_vec=entrenamiento)\n",
    "gram_test_Pauli = Pauli_kernel.evaluate(x_vec=prueba, y_vec=entrenamiento)\n",
    "\n",
    "gram_train_z = z_kernel.evaluate(x_vec=entrenamiento)\n",
    "gram_test_z = z_kernel.evaluate(x_vec=prueba, y_vec=entrenamiento)"
   ]
  },
  {
   "cell_type": "code",
   "execution_count": 23,
   "metadata": {},
   "outputs": [
    {
     "name": "stdout",
     "output_type": "stream",
     "text": [
      "Pauli XYZZ precisión: 0.6\n",
      "Z precisión: 0.8\n"
     ]
    }
   ],
   "source": [
    "p_svc = SVC(kernel='precomputed')\n",
    "p_svc.fit(gram_Pauli, entrenamiento_tag)\n",
    "p_score = p_svc.score(gram_test_Pauli, prueba_tag)\n",
    "\n",
    "print(f'Pauli XYZZ precisión: {p_score}')\n",
    "\n",
    "pc_svc = SVC(kernel='precomputed')\n",
    "pc_svc.fit(gram_train_z, entrenamiento_tag)\n",
    "pc_score = pc_svc.score(gram_test_z, prueba_tag)\n",
    "\n",
    "print(f'Z precisión: {pc_score}')"
   ]
  }
 ],
 "metadata": {
  "kernelspec": {
   "display_name": "Python 3",
   "language": "python",
   "name": "python3"
  },
  "language_info": {
   "codemirror_mode": {
    "name": "ipython",
    "version": 3
   },
   "file_extension": ".py",
   "mimetype": "text/x-python",
   "name": "python",
   "nbconvert_exporter": "python",
   "pygments_lexer": "ipython3",
   "version": "3.8.5"
  }
 },
 "nbformat": 4,
 "nbformat_minor": 4
}
